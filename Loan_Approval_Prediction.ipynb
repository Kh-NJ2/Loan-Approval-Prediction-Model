{
 "cells": [
  {
   "cell_type": "code",
   "execution_count": 2,
   "id": "bea9be9a-e496-4caf-bd09-8fa9ed82511b",
   "metadata": {},
   "outputs": [],
   "source": [
    "import pandas as pd\n",
    "\n",
    "from sklearn.preprocessing import LabelEncoder, StandardScaler\n",
    "from sklearn.model_selection import train_test_split\n",
    "from imblearn.over_sampling import SMOTE\n",
    "from sklearn.linear_model import LogisticRegression\n",
    "from sklearn.tree import DecisionTreeClassifier\n",
    "from sklearn.metrics import classification_report, confusion_matrix, f1_score, precision_score, recall_score\n",
    "import matplotlib.pyplot as plt"
   ]
  },
  {
   "cell_type": "code",
   "execution_count": 3,
   "id": "f971cb44-d7b4-4414-a889-957dd350eed4",
   "metadata": {},
   "outputs": [],
   "source": [
    "df = pd.read_csv('loan_approval_dataset.csv')"
   ]
  },
  {
   "cell_type": "markdown",
   "id": "4fbc3f5e-5e35-40b4-bfd8-02bade2d99eb",
   "metadata": {},
   "source": [
    "# Loan Approval Prediction Project\n",
    "\n",
    "## Objective\n",
    "Build a machine learning model to predict whether a loan application will be approved based on applicant information and financial data.\n",
    "\n",
    "## Dataset\n",
    "- **Source**: Loan-Approval-Prediction-Dataset (Kaggle)\n",
    "- **Problem Type**: Binary Classification\n",
    "- **Focus**: Handling imbalanced data with precision, recall, and F1-score evaluation\n",
    "\n",
    "## Tools & Libraries\n",
    "- Pandas\n",
    "- Scikit-learn\n",
    "- Imbalanced-learn (SMOTE)\n",
    "- Matplotlib (Visualization)"
   ]
  },
  {
   "cell_type": "markdown",
   "id": "5f9eecbd-e3d4-4d91-802b-781a0f582874",
   "metadata": {},
   "source": [
    "### 2.1 Missing Values Analysis"
   ]
  },
  {
   "cell_type": "code",
   "execution_count": 4,
   "id": "487e920b-607d-43f3-aa0a-0622558620c7",
   "metadata": {},
   "outputs": [
    {
     "name": "stdout",
     "output_type": "stream",
     "text": [
      "No missing values\n"
     ]
    }
   ],
   "source": [
    "if df.isnull().sum().any():\n",
    "    print(df.isnull().sum())\n",
    "else:\n",
    "    print(\"No missing values\")"
   ]
  },
  {
   "cell_type": "markdown",
   "id": "f4750904-090c-45ab-be91-196fb5cdd5ac",
   "metadata": {},
   "source": [
    "### 2.3 Target Variable Distribution\n",
    "Analyzing the distribution of loan approvals vs rejections to identify class imbalance."
   ]
  },
  {
   "cell_type": "code",
   "execution_count": 5,
   "id": "429cfa1f-ffec-4234-a4f4-7df11d491790",
   "metadata": {},
   "outputs": [
    {
     "data": {
      "text/plain": [
       " loan_status\n",
       "Approved    62.215976\n",
       "Rejected    37.784024\n",
       "Name: proportion, dtype: float64"
      ]
     },
     "execution_count": 5,
     "metadata": {},
     "output_type": "execute_result"
    }
   ],
   "source": [
    "df[' loan_status'].value_counts(normalize=True) * 100"
   ]
  },
  {
   "cell_type": "markdown",
   "id": "6bfa588f-578c-4517-81db-927df5ee0420",
   "metadata": {},
   "source": [
    "## 3. Data Preprocessing\n",
    "### 3.1 Categorical Feature Encoding\n",
    "Converting categorical variables (education, employment status) to numerical format for machine learning algorithms.\n",
    "- Graduate = 1, Not Graduate = 0\n",
    "- Self Employed = 1, Not Self Employed = 0"
   ]
  },
  {
   "cell_type": "code",
   "execution_count": 6,
   "id": "880a0130-378f-4392-bcf1-97453532fd01",
   "metadata": {},
   "outputs": [],
   "source": [
    "df['education_encoded'] = df[' education'].map({' Graduate': 1, ' Not Graduate': 0})\n",
    "df['self_employed_encoded'] = df[' self_employed'].map({' Yes': 1, ' No': 0})"
   ]
  },
  {
   "cell_type": "markdown",
   "id": "be63c940-53d4-4314-bc69-f12b0862a282",
   "metadata": {},
   "source": [
    "### 3.2 Feature Engineering\n",
    "Creating new features that capture important financial ratios:\n",
    "- **Loan-to-Income Ratio**: Measures borrowing relative to earning capacity\n",
    "- **Total Assets**: Sum of all asset values\n",
    "- **Assets-to-Loan Ratio**: Ability to cover loan with assets"
   ]
  },
  {
   "cell_type": "code",
   "execution_count": 7,
   "id": "116c279a-fc10-4824-a977-0ea6e2daff57",
   "metadata": {},
   "outputs": [],
   "source": [
    "df['loan_to_income'] = df[' loan_amount'] / df[' income_annum']\n",
    "df['total_assets'] = (df[' residential_assets_value'] + df[' commercial_assets_value'] + df[' luxury_assets_value'] + df[' bank_asset_value'])\n",
    "df['assets_to_loan'] = df['total_assets'] / df[' loan_amount']"
   ]
  },
  {
   "cell_type": "markdown",
   "id": "517d499e-0171-4f5e-a0ef-2607e760a6a2",
   "metadata": {},
   "source": [
    "## 4. Model Preparation\n",
    "### 4.1 Feature and Target Selection\n",
    "Separating features (X) from target variable (Y) and removing unnecessary columns."
   ]
  },
  {
   "cell_type": "code",
   "execution_count": 8,
   "id": "55f4812e-61c1-4c0e-8234-a83edf2f511a",
   "metadata": {},
   "outputs": [],
   "source": [
    "X = df.drop(['loan_id', ' education', ' self_employed', ' loan_status'], axis=1)\n",
    "Y = df[' loan_status']"
   ]
  },
  {
   "cell_type": "markdown",
   "id": "1aeb463b-a9a8-4c27-ac4c-4c33ba5e45c2",
   "metadata": {},
   "source": [
    "### 4.2 Train-Test Split\n",
    "Splitting data into training (80%) and testing (20%) sets with stratification to maintain class distribution."
   ]
  },
  {
   "cell_type": "code",
   "execution_count": 9,
   "id": "e69726e5-5cc9-4cd3-801b-d7175da2903d",
   "metadata": {},
   "outputs": [
    {
     "name": "stdout",
     "output_type": "stream",
     "text": [
      "Training set size:  (3415, 14)\n",
      "Test set size:  (854, 14)\n",
      "Train target distriution: \n",
      " loan_status\n",
      "Approved    0.622255\n",
      "Rejected    0.377745\n",
      "Name: proportion, dtype: float64\n"
     ]
    }
   ],
   "source": [
    "X_train, X_test, Y_train, Y_test = train_test_split(X, Y, stratify=Y, test_size=0.2, random_state=42)\n",
    "print(\"Training set size: \", X_train.shape)\n",
    "print(\"Test set size: \", X_test.shape)\n",
    "print(\"Train target distriution: \")\n",
    "print(Y_train.value_counts(normalize=True))"
   ]
  },
  {
   "cell_type": "markdown",
   "id": "140eb4df-fe1f-4643-b9a0-50259ef7159a",
   "metadata": {},
   "source": [
    "## 5. Handling Class Imbalance\n",
    "### 5.1 SMOTE Application\n",
    "Using Synthetic Minority Oversampling Technique (SMOTE) to balance the training dataset and improve model performance on minority class."
   ]
  },
  {
   "cell_type": "code",
   "execution_count": 10,
   "id": "c5ed8227-9b32-43fc-98f0-1be6ebab3e48",
   "metadata": {},
   "outputs": [
    {
     "name": "stdout",
     "output_type": "stream",
     "text": [
      "Before SMOTE:\n",
      " loan_status\n",
      "Approved    2125\n",
      "Rejected    1290\n",
      "Name: count, dtype: int64\n",
      "\n",
      "After SMOTE:\n",
      " loan_status\n",
      "Rejected    2125\n",
      "Approved    2125\n",
      "Name: count, dtype: int64\n",
      "\n",
      "Training set size increased from 3415 to 4250\n"
     ]
    }
   ],
   "source": [
    "smote = SMOTE(random_state=42)\n",
    "\n",
    "X_train_balanced, Y_train_balanced = smote.fit_resample(X_train, Y_train)\n",
    "print(\"Before SMOTE:\")\n",
    "print(Y_train.value_counts())\n",
    "print(\"\\nAfter SMOTE:\")\n",
    "print(Y_train_balanced.value_counts())\n",
    "print(f\"\\nTraining set size increased from {len(Y_train)} to {len(Y_train_balanced)}\")\n"
   ]
  },
  {
   "cell_type": "markdown",
   "id": "5ba94698-9d3e-41bb-9461-8200806448cb",
   "metadata": {},
   "source": [
    "### 5.2 Feature Scaling\n",
    "Standardizing features to have mean=0 and std=1, essential for logistic regression convergence."
   ]
  },
  {
   "cell_type": "code",
   "execution_count": 11,
   "id": "8ca54ba5-f25a-4171-84b9-282f5e6761c5",
   "metadata": {},
   "outputs": [],
   "source": [
    "scaler = StandardScaler()\n",
    "X_train_scaled = scaler.fit_transform(X_train_balanced)\n",
    "X_test_scaled = scaler.transform(X_test)"
   ]
  },
  {
   "cell_type": "markdown",
   "id": "c3bfc2d3-e92c-46fc-a6eb-667fa096999e",
   "metadata": {},
   "source": [
    "## 6. Model Training\n",
    "### 6.1 Logistic Regression\n",
    "Training a logistic regression model as our baseline classifier."
   ]
  },
  {
   "cell_type": "code",
   "execution_count": 12,
   "id": "08bbee8b-abea-4a05-8c72-3d04ce6fdaf6",
   "metadata": {},
   "outputs": [
    {
     "name": "stdout",
     "output_type": "stream",
     "text": [
      "Logistic Regression predictions shape: (854,)\n"
     ]
    }
   ],
   "source": [
    "lr = LogisticRegression(random_state=42, max_iter=200)\n",
    "lr.fit(X_train_scaled, Y_train_balanced)\n",
    "Y_pred_lr = lr.predict(X_test_scaled)\n",
    "print(\"Logistic Regression predictions shape:\", Y_pred_lr.shape)"
   ]
  },
  {
   "cell_type": "markdown",
   "id": "7ec2e2ba-913d-42ec-8f3b-298741a72714",
   "metadata": {},
   "source": [
    "### 6.2 Logistic Regression Evaluation\n",
    "Evaluating model performance with focus on precision, recall, and F1-score for imbalanced data."
   ]
  },
  {
   "cell_type": "code",
   "execution_count": 13,
   "id": "d805207d-b990-4284-a896-22955e9aacf4",
   "metadata": {},
   "outputs": [
    {
     "name": "stdout",
     "output_type": "stream",
     "text": [
      "Classification Report:\n",
      "              precision    recall  f1-score   support\n",
      "\n",
      "    Approved       0.94      0.94      0.94       531\n",
      "    Rejected       0.90      0.91      0.90       323\n",
      "\n",
      "    accuracy                           0.93       854\n",
      "   macro avg       0.92      0.92      0.92       854\n",
      "weighted avg       0.93      0.93      0.93       854\n",
      "\n",
      "Confusion Matrix:\n",
      "[[498  33]\n",
      " [ 30 293]]\n"
     ]
    }
   ],
   "source": [
    "print(\"Classification Report:\")\n",
    "print(classification_report(Y_test, Y_pred_lr))\n",
    "print(\"Confusion Matrix:\")\n",
    "print(confusion_matrix(Y_test, Y_pred_lr))"
   ]
  },
  {
   "cell_type": "markdown",
   "id": "3ea2f6e2-d583-4410-8912-95a27ca4c9ed",
   "metadata": {},
   "source": [
    "### 6.3 Decision Tree Classifier\n",
    "Training a decision tree model to compare with logistic regression performance."
   ]
  },
  {
   "cell_type": "code",
   "execution_count": 14,
   "id": "6defa054-834c-4685-944d-a3c0d6405fff",
   "metadata": {},
   "outputs": [
    {
     "name": "stdout",
     "output_type": "stream",
     "text": [
      "Decision Tree predictions shape: (854,)\n"
     ]
    }
   ],
   "source": [
    "dt = DecisionTreeClassifier(random_state=42)\n",
    "dt.fit(X_train_scaled, Y_train_balanced)\n",
    "Y_pred_dt = dt.predict(X_test_scaled)\n",
    "print(\"Decision Tree predictions shape:\", Y_pred_dt.shape)"
   ]
  },
  {
   "cell_type": "markdown",
   "id": "550da736-8f50-4fcd-aeb7-30b5691a8099",
   "metadata": {},
   "source": [
    "### 6.4 Decision Tree Evaluation\n",
    "Comparing decision tree performance against logistic regression using classification metrics."
   ]
  },
  {
   "cell_type": "code",
   "execution_count": 15,
   "id": "ed3c2804-7656-4d05-992a-23bbb671f881",
   "metadata": {},
   "outputs": [
    {
     "name": "stdout",
     "output_type": "stream",
     "text": [
      "Classification Report:\n",
      "              precision    recall  f1-score   support\n",
      "\n",
      "    Approved       1.00      1.00      1.00       531\n",
      "    Rejected       1.00      1.00      1.00       323\n",
      "\n",
      "    accuracy                           1.00       854\n",
      "   macro avg       1.00      1.00      1.00       854\n",
      "weighted avg       1.00      1.00      1.00       854\n",
      "\n",
      "Confusion Matrix:\n",
      "[[530   1]\n",
      " [  0 323]]\n"
     ]
    }
   ],
   "source": [
    "print(\"Classification Report:\")\n",
    "print(classification_report(Y_test, Y_pred_dt))\n",
    "print(\"Confusion Matrix:\")\n",
    "print(confusion_matrix(Y_test, Y_pred_dt))"
   ]
  },
  {
   "cell_type": "markdown",
   "id": "5db6deb9-c348-48b2-b390-8ece7174a64e",
   "metadata": {},
   "source": [
    "## 7. Results Summary"
   ]
  },
  {
   "cell_type": "code",
   "execution_count": 16,
   "id": "bdcd4d49-8ab1-4158-9420-cac256876696",
   "metadata": {},
   "outputs": [
    {
     "name": "stdout",
     "output_type": "stream",
     "text": [
      "comparing both models: \n",
      "\n",
      "Logistic Regression F1-Score: 0.926\n",
      "Decision Tree F1-Score: 0.999\n"
     ]
    }
   ],
   "source": [
    "print(\"comparing both models: \")\n",
    "print(f\"\\nLogistic Regression F1-Score: {f1_score(Y_test, Y_pred_lr, average='weighted'):.3f}\")\n",
    "print(f\"Decision Tree F1-Score: {f1_score(Y_test, Y_pred_dt, average='weighted'):.3f}\")"
   ]
  },
  {
   "cell_type": "code",
   "execution_count": 17,
   "id": "62896e43-338a-443c-9ff0-1ecae1128de7",
   "metadata": {},
   "outputs": [
    {
     "name": "stdout",
     "output_type": "stream",
     "text": [
      "\n",
      "Based on the weighted F1-Score, the Decision Tree model performed slightly better than Logistic Regression.\n",
      "This suggests that the relationship between features and loan approval status might be non-linear,\n",
      "which Decision Trees are better at capturing.\n",
      "\n",
      "Top 10 Most Important Features:\n",
      "                      feature  importance\n",
      "4                 cibil_score    0.848458\n",
      "11             loan_to_income    0.076654\n",
      "3                   loan_term    0.057206\n",
      "13             assets_to_loan    0.016747\n",
      "5    residential_assets_value    0.000935\n",
      "0            no_of_dependents    0.000000\n",
      "2                 loan_amount    0.000000\n",
      "1                income_annum    0.000000\n",
      "6     commercial_assets_value    0.000000\n",
      "7         luxury_assets_value    0.000000\n"
     ]
    },
    {
     "data": {
      "image/png": "[encoded data removed]",
      "text/plain": [
       "<Figure size 1000x600 with 1 Axes>"
      ]
     },
     "metadata": {},
     "output_type": "display_data"
    }
   ],
   "source": [
    "print(\"\\nBased on the weighted F1-Score, the Decision Tree model performed slightly better than Logistic Regression.\")\n",
    "print(\"This suggests that the relationship between features and loan approval status might be non-linear,\")\n",
    "print(\"which Decision Trees are better at capturing.\\n\")\n",
    "feature_names = X_train.columns\n",
    "importance = dt.feature_importances_\n",
    "\n",
    "feature_importance = pd.DataFrame({\n",
    "    'feature': feature_names,\n",
    "    'importance': importance\n",
    "}).sort_values('importance', ascending=False)\n",
    "\n",
    "print(\"Top 10 Most Important Features:\")\n",
    "print(feature_importance.head(10))\n",
    "\n",
    "plt.figure(figsize=(10, 6))\n",
    "plt.barh(feature_importance.head(10)['feature'], feature_importance.head(10)['importance'])\n",
    "plt.title('Feature Importance - Decision Tree')\n",
    "plt.show()"
   ]
  }
 ],
 "metadata": {
  "kernelspec": {
   "display_name": "Python 3 (ipykernel)",
   "language": "python",
   "name": "python3"
  },
  "language_info": {
   "codemirror_mode": {
    "name": "ipython",
    "version": 3
   },
   "file_extension": ".py",
   "mimetype": "text/x-python",
   "name": "python",
   "nbconvert_exporter": "python",
   "pygments_lexer": "ipython3",
   "version": "3.12.10"
  }
 },
 "nbformat": 4,
 "nbformat_minor": 5
}
